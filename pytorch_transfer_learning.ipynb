{
  "nbformat": 4,
  "nbformat_minor": 0,
  "metadata": {
    "colab": {
      "name": "pytorch-transfer_learning.ipynb",
      "provenance": [],
      "collapsed_sections": []
    },
    "kernelspec": {
      "name": "python3",
      "display_name": "Python 3"
    },
    "language_info": {
      "name": "python"
    },
    "accelerator": "GPU"
  },
  "cells": [
    {
      "cell_type": "code",
      "execution_count": 1,
      "metadata": {
        "id": "hbT9tpTcc7Mj"
      },
      "outputs": [],
      "source": [
        "import torch\n",
        "import torchvision\n",
        "import numpy as np\n",
        "from torch import nn\n",
        "from google.colab.patches import cv2_imshow\n",
        "import matplotlib.pyplot as plt\n",
        "from torchvision import transforms\n",
        "from torch.optim import lr_scheduler\n",
        "import copy\n",
        "import warnings\n",
        "warnings.filterwarnings('ignore')"
      ]
    },
    {
      "cell_type": "code",
      "source": [
        "import os\n",
        "from google.colab import drive\n",
        "drive.mount('/content/drive')"
      ],
      "metadata": {
        "colab": {
          "base_uri": "https://localhost:8080/"
        },
        "id": "tcvuZKOudtDp",
        "outputId": "08ad2206-2ea1-4f96-adc7-3f8d77f35f24"
      },
      "execution_count": null,
      "outputs": [
        {
          "output_type": "stream",
          "name": "stdout",
          "text": [
            "Drive already mounted at /content/drive; to attempt to forcibly remount, call drive.mount(\"/content/drive\", force_remount=True).\n"
          ]
        }
      ]
    },
    {
      "cell_type": "code",
      "source": [
        "train_path=\"/content/drive/MyDrive/vision lab/alexnet,vgg16,resnet,inception_v1/vgg_scratch/data/train/\"\n",
        "test_path=\"/content/drive/MyDrive/vision lab/alexnet,vgg16,resnet,inception_v1/vgg_scratch/data/validation/\""
      ],
      "metadata": {
        "id": "MBz6x8gKd2wJ"
      },
      "execution_count": null,
      "outputs": []
    },
    {
      "cell_type": "code",
      "source": [
        "device= \"cuda:0\" if torch.cuda.is_available() else \"cpu\"\n",
        "device"
      ],
      "metadata": {
        "colab": {
          "base_uri": "https://localhost:8080/",
          "height": 35
        },
        "id": "-g6LzQ9cd87g",
        "outputId": "42608e77-1e41-4baa-82d4-b8a7bc023029"
      },
      "execution_count": null,
      "outputs": [
        {
          "output_type": "execute_result",
          "data": {
            "application/vnd.google.colaboratory.intrinsic+json": {
              "type": "string"
            },
            "text/plain": [
              "'cuda:0'"
            ]
          },
          "metadata": {},
          "execution_count": 4
        }
      ]
    },
    {
      "cell_type": "code",
      "source": [
        "data_transform={\n",
        "     \n",
        "      \"train\": transforms.Compose([\n",
        "                                 transforms.RandomSizedCrop(224),\n",
        "                                 transforms.RandomHorizontalFlip(),\n",
        "                                 transforms.ToTensor()\n",
        "    ]),\n",
        "\n",
        "      \"test\": transforms.Compose([\n",
        "                                 transforms.RandomSizedCrop(224),\n",
        "                                 transforms.RandomHorizontalFlip(),\n",
        "                                 transforms.ToTensor()\n",
        "    ]),\n",
        "}"
      ],
      "metadata": {
        "id": "d7pWbUMMegqk"
      },
      "execution_count": null,
      "outputs": []
    },
    {
      "cell_type": "code",
      "source": [
        "image_data={\n",
        "    \n",
        "    \"train\": torchvision.datasets.ImageFolder(train_path,transform=data_transform[\"train\"]),\n",
        "    \"val\" :  torchvision.datasets.ImageFolder(test_path,transform=data_transform[\"test\"])\n",
        "}"
      ],
      "metadata": {
        "id": "B3-mxNt9ehfy"
      },
      "execution_count": null,
      "outputs": []
    },
    {
      "cell_type": "code",
      "source": [
        "image_data_loader={\n",
        "    \"train\": torch.utils.data.DataLoader(image_data[\"train\"],batch_size=32,num_workers=4),\n",
        "    \"val\" : torch.utils.data.DataLoader(image_data[\"val\"],batch_size=32,num_workers=4)\n",
        "}"
      ],
      "metadata": {
        "id": "cOopOCffgS_L"
      },
      "execution_count": null,
      "outputs": []
    },
    {
      "cell_type": "code",
      "source": [
        "for x,y in image_data_loader[\"train\"]:\n",
        "  print(x.size())\n",
        "  print(x.size(0))\n",
        "  break"
      ],
      "metadata": {
        "colab": {
          "base_uri": "https://localhost:8080/"
        },
        "id": "frNCsXXQgyYD",
        "outputId": "b4d4b809-d825-41a5-8c9e-bc732a41b07b"
      },
      "execution_count": null,
      "outputs": [
        {
          "output_type": "stream",
          "name": "stdout",
          "text": [
            "torch.Size([32, 3, 224, 224])\n",
            "32\n"
          ]
        }
      ]
    },
    {
      "cell_type": "code",
      "source": [
        "plt.imshow(image_data[\"train\"][1][0].permute(1,2,0))"
      ],
      "metadata": {
        "colab": {
          "base_uri": "https://localhost:8080/",
          "height": 286
        },
        "id": "x351hfVLiZKs",
        "outputId": "3e80a991-7abf-4af0-a4b7-13918e387564"
      },
      "execution_count": null,
      "outputs": [
        {
          "output_type": "execute_result",
          "data": {
            "text/plain": [
              "<matplotlib.image.AxesImage at 0x7f75fa16afd0>"
            ]
          },
          "metadata": {},
          "execution_count": 9
        },
        {
          "output_type": "display_data",
          "data": {
            "image/png": "[encoded data removed]",
            "text/plain": [
              "<Figure size 432x288 with 1 Axes>"
            ]
          },
          "metadata": {
            "needs_background": "light"
          }
        }
      ]
    },
    {
      "cell_type": "code",
      "source": [
        "data_sizes = {\n",
        "    \"train\": len(image_data[\"train\"]),\n",
        "    \"val\": len(image_data[\"val\"])\n",
        "}\n",
        "data_sizes"
      ],
      "metadata": {
        "colab": {
          "base_uri": "https://localhost:8080/"
        },
        "id": "lQdFOtP_jHAD",
        "outputId": "190e58a6-ed64-4c47-e24c-c382f9fd6fdf"
      },
      "execution_count": null,
      "outputs": [
        {
          "output_type": "execute_result",
          "data": {
            "text/plain": [
              "{'train': 484, 'val': 264}"
            ]
          },
          "metadata": {},
          "execution_count": 10
        }
      ]
    },
    {
      "cell_type": "code",
      "source": [
        "class_names = image_data[\"train\"].classes\n",
        "class_names"
      ],
      "metadata": {
        "colab": {
          "base_uri": "https://localhost:8080/"
        },
        "id": "_2p0jARMjOK-",
        "outputId": "f1bf9ea2-71d4-4ba0-f013-34764b195a12"
      },
      "execution_count": null,
      "outputs": [
        {
          "output_type": "execute_result",
          "data": {
            "text/plain": [
              "['backpack', 'footwear', 'glasses', 'watch']"
            ]
          },
          "metadata": {},
          "execution_count": 11
        }
      ]
    },
    {
      "cell_type": "code",
      "source": [
        "model_conv = torchvision.models.vgg16(pretrained=True)\n",
        "\n",
        "print(model_conv)"
      ],
      "metadata": {
        "colab": {
          "base_uri": "https://localhost:8080/"
        },
        "id": "J7ITiSQvkcO3",
        "outputId": "8d67b4c5-97d6-4224-d7dc-2d152bec971f"
      },
      "execution_count": null,
      "outputs": [
        {
          "output_type": "stream",
          "name": "stdout",
          "text": [
            "VGG(\n",
            "  (features): Sequential(\n",
            "    (0): Conv2d(3, 64, kernel_size=(3, 3), stride=(1, 1), padding=(1, 1))\n",
            "    (1): ReLU(inplace=True)\n",
            "    (2): Conv2d(64, 64, kernel_size=(3, 3), stride=(1, 1), padding=(1, 1))\n",
            "    (3): ReLU(inplace=True)\n",
            "    (4): MaxPool2d(kernel_size=2, stride=2, padding=0, dilation=1, ceil_mode=False)\n",
            "    (5): Conv2d(64, 128, kernel_size=(3, 3), stride=(1, 1), padding=(1, 1))\n",
            "    (6): ReLU(inplace=True)\n",
            "    (7): Conv2d(128, 128, kernel_size=(3, 3), stride=(1, 1), padding=(1, 1))\n",
            "    (8): ReLU(inplace=True)\n",
            "    (9): MaxPool2d(kernel_size=2, stride=2, padding=0, dilation=1, ceil_mode=False)\n",
            "    (10): Conv2d(128, 256, kernel_size=(3, 3), stride=(1, 1), padding=(1, 1))\n",
            "    (11): ReLU(inplace=True)\n",
            "    (12): Conv2d(256, 256, kernel_size=(3, 3), stride=(1, 1), padding=(1, 1))\n",
            "    (13): ReLU(inplace=True)\n",
            "    (14): Conv2d(256, 256, kernel_size=(3, 3), stride=(1, 1), padding=(1, 1))\n",
            "    (15): ReLU(inplace=True)\n",
            "    (16): MaxPool2d(kernel_size=2, stride=2, padding=0, dilation=1, ceil_mode=False)\n",
            "    (17): Conv2d(256, 512, kernel_size=(3, 3), stride=(1, 1), padding=(1, 1))\n",
            "    (18): ReLU(inplace=True)\n",
            "    (19): Conv2d(512, 512, kernel_size=(3, 3), stride=(1, 1), padding=(1, 1))\n",
            "    (20): ReLU(inplace=True)\n",
            "    (21): Conv2d(512, 512, kernel_size=(3, 3), stride=(1, 1), padding=(1, 1))\n",
            "    (22): ReLU(inplace=True)\n",
            "    (23): MaxPool2d(kernel_size=2, stride=2, padding=0, dilation=1, ceil_mode=False)\n",
            "    (24): Conv2d(512, 512, kernel_size=(3, 3), stride=(1, 1), padding=(1, 1))\n",
            "    (25): ReLU(inplace=True)\n",
            "    (26): Conv2d(512, 512, kernel_size=(3, 3), stride=(1, 1), padding=(1, 1))\n",
            "    (27): ReLU(inplace=True)\n",
            "    (28): Conv2d(512, 512, kernel_size=(3, 3), stride=(1, 1), padding=(1, 1))\n",
            "    (29): ReLU(inplace=True)\n",
            "    (30): MaxPool2d(kernel_size=2, stride=2, padding=0, dilation=1, ceil_mode=False)\n",
            "  )\n",
            "  (avgpool): AdaptiveAvgPool2d(output_size=(7, 7))\n",
            "  (classifier): Sequential(\n",
            "    (0): Linear(in_features=25088, out_features=4096, bias=True)\n",
            "    (1): ReLU(inplace=True)\n",
            "    (2): Dropout(p=0.5, inplace=False)\n",
            "    (3): Linear(in_features=4096, out_features=4096, bias=True)\n",
            "    (4): ReLU(inplace=True)\n",
            "    (5): Dropout(p=0.5, inplace=False)\n",
            "    (6): Linear(in_features=4096, out_features=1000, bias=True)\n",
            "  )\n",
            ")\n"
          ]
        }
      ]
    },
    {
      "cell_type": "code",
      "source": [
        "for param in model_conv.parameters():\n",
        "  param.required_grad = False"
      ],
      "metadata": {
        "id": "74o29vZSlbr2"
      },
      "execution_count": null,
      "outputs": []
    },
    {
      "cell_type": "code",
      "source": [
        "model_conv.classifier[6]=nn.Linear(in_features=4096,out_features=len(class_names),bias=True)\n",
        "model_conv.classifier"
      ],
      "metadata": {
        "colab": {
          "base_uri": "https://localhost:8080/"
        },
        "id": "b44kmAXQkoBE",
        "outputId": "12907161-c2ae-499f-da46-59cd27793bca"
      },
      "execution_count": null,
      "outputs": [
        {
          "output_type": "execute_result",
          "data": {
            "text/plain": [
              "Sequential(\n",
              "  (0): Linear(in_features=25088, out_features=4096, bias=True)\n",
              "  (1): ReLU(inplace=True)\n",
              "  (2): Dropout(p=0.5, inplace=False)\n",
              "  (3): Linear(in_features=4096, out_features=4096, bias=True)\n",
              "  (4): ReLU(inplace=True)\n",
              "  (5): Dropout(p=0.5, inplace=False)\n",
              "  (6): Linear(in_features=4096, out_features=4, bias=True)\n",
              ")"
            ]
          },
          "metadata": {},
          "execution_count": 14
        }
      ]
    },
    {
      "cell_type": "code",
      "source": [
        "model_conv = model_conv.to(device)"
      ],
      "metadata": {
        "id": "2saHAuROk-fQ"
      },
      "execution_count": null,
      "outputs": []
    },
    {
      "cell_type": "code",
      "source": [
        "loss_fn = nn.CrossEntropyLoss()\n",
        "optimizer =torch.optim.Adam(model_conv.classifier[6].parameters(), lr=0.001)"
      ],
      "metadata": {
        "id": "lGo-U-qVlgON"
      },
      "execution_count": null,
      "outputs": []
    },
    {
      "cell_type": "code",
      "source": [
        "exp_lr_scheduler = lr_scheduler.StepLR(optimizer, step_size=7, gamma=0.1)"
      ],
      "metadata": {
        "id": "mmS9jvm0oAwm"
      },
      "execution_count": null,
      "outputs": []
    },
    {
      "cell_type": "code",
      "source": [
        "def train_loop(model, loss_fn, optimizer, scheduler, num_epochs=20):\n",
        "\n",
        "  best_model_wts = copy.deepcopy(model.state_dict())\n",
        "  best_acc = 0.0\n",
        "\n",
        "  for epoch in range(num_epochs):\n",
        "    print(f\"Epoch {epoch}/{num_epochs - 1}\")\n",
        "    print(\"==\"*10)\n",
        "\n",
        "    for phase in [\"train\", \"val\"]:\n",
        "      training = phase == \"train\"\n",
        "      if training:\n",
        "        model.train() # sets the training mode\n",
        "      else:\n",
        "        model.eval() # sets the evaluation mode\n",
        "\n",
        "      running_loss = 0.0\n",
        "      running_corrects = 0\n",
        "\n",
        "      for inputs, labels in image_data_loader[phase]:\n",
        "        inputs = inputs.to(device)\n",
        "        labels = labels.to(device)\n",
        "\n",
        "        optimizer.zero_grad()\n",
        "\n",
        "        with torch.set_grad_enabled(training):\n",
        "          outputs = model(inputs)\n",
        "\n",
        "          _, preds = torch.max(outputs, 1)\n",
        "          loss = loss_fn(outputs, preds)\n",
        "\n",
        "          if training:\n",
        "            loss.backward()\n",
        "            optimizer.step()\n",
        "\n",
        "        running_loss += loss.item() * inputs.size(0)\n",
        "        running_corrects += torch.sum(preds == labels.data)\n",
        "\n",
        "      if training:\n",
        "        scheduler.step()\n",
        "\n",
        "      epoch_loss = running_loss / data_sizes[phase]\n",
        "      epoch_acc = running_corrects.double() / data_sizes[phase] # mod\n",
        "\n",
        "      print(f\"{phase}, Loss: {epoch_loss}, accuracy: {epoch_acc}\")\n",
        "      if not training and epoch_acc > best_acc:\n",
        "        best_acc = epoch_acc\n",
        "        best_model_wts = copy.deepcopy(model.state_dict())\n",
        "  \n",
        "  model.load_state_dict(best_model_wts)\n",
        "  return model\n",
        "\n",
        "\n",
        "        \n",
        "\n",
        "\n"
      ],
      "metadata": {
        "id": "spCsanKZrSrn"
      },
      "execution_count": null,
      "outputs": []
    },
    {
      "cell_type": "code",
      "source": [
        "model = train_loop(model_conv, loss_fn, optimizer, exp_lr_scheduler, num_epochs=20)"
      ],
      "metadata": {
        "colab": {
          "base_uri": "https://localhost:8080/"
        },
        "id": "OfYjFTSMtwti",
        "outputId": "37b3fadc-c301-4dcb-d2eb-4f9ecb138d07"
      },
      "execution_count": null,
      "outputs": [
        {
          "output_type": "stream",
          "name": "stdout",
          "text": [
            "Epoch 0/19\n",
            "====================\n",
            "train, Loss: 0.16596656475189211, accuracy: 0.2603305785123967\n",
            "val, Loss: 0.0005875151413916187, accuracy: 0.25\n",
            "Epoch 1/19\n",
            "====================\n",
            "train, Loss: 0.00010310363290015578, accuracy: 0.25\n",
            "val, Loss: 0.000109625261040602, accuracy: 0.25\n",
            "Epoch 2/19\n",
            "====================\n",
            "train, Loss: 4.912142770810217e-05, accuracy: 0.25\n",
            "val, Loss: 0.00011009086009642377, accuracy: 0.25\n",
            "Epoch 3/19\n",
            "====================\n",
            "train, Loss: 4.867975877452168e-05, accuracy: 0.25\n",
            "val, Loss: 0.00011589958739932626, accuracy: 0.25\n",
            "Epoch 4/19\n",
            "====================\n",
            "train, Loss: 2.8794613311122306e-05, accuracy: 0.25\n",
            "val, Loss: 0.00014209295871599656, accuracy: 0.25\n",
            "Epoch 5/19\n",
            "====================\n",
            "train, Loss: 3.6203439055144894e-05, accuracy: 0.25\n",
            "val, Loss: 0.00012363352024377409, accuracy: 0.25\n",
            "Epoch 6/19\n",
            "====================\n",
            "train, Loss: 3.741661203845475e-05, accuracy: 0.25\n",
            "val, Loss: 4.859369150698044e-05, accuracy: 0.25\n",
            "Epoch 7/19\n",
            "====================\n",
            "train, Loss: 1.757544948703086e-05, accuracy: 0.25\n",
            "val, Loss: 9.424065082743199e-05, accuracy: 0.25\n",
            "Epoch 8/19\n",
            "====================\n",
            "train, Loss: 3.2349050426948585e-05, accuracy: 0.25\n",
            "val, Loss: 0.00010217100492754429, accuracy: 0.25\n",
            "Epoch 9/19\n",
            "====================\n",
            "train, Loss: 3.326832062488062e-05, accuracy: 0.25\n",
            "val, Loss: 8.422982393147487e-05, accuracy: 0.25\n",
            "Epoch 10/19\n",
            "====================\n",
            "train, Loss: 4.619638171368197e-05, accuracy: 0.25\n",
            "val, Loss: 7.201454211485036e-05, accuracy: 0.25\n",
            "Epoch 11/19\n",
            "====================\n",
            "train, Loss: 2.267155230222948e-05, accuracy: 0.25\n",
            "val, Loss: 6.158729152185984e-05, accuracy: 0.25\n",
            "Epoch 12/19\n",
            "====================\n",
            "train, Loss: 1.605094796615943e-05, accuracy: 0.25\n",
            "val, Loss: 0.00018014110614647947, accuracy: 0.25\n",
            "Epoch 13/19\n",
            "====================\n",
            "train, Loss: 4.4621114156601955e-05, accuracy: 0.25\n",
            "val, Loss: 6.191720157486006e-05, accuracy: 0.25\n",
            "Epoch 14/19\n",
            "====================\n",
            "train, Loss: 3.1839891310610704e-05, accuracy: 0.25\n",
            "val, Loss: 0.00010870719239447322, accuracy: 0.25\n",
            "Epoch 15/19\n",
            "====================\n",
            "train, Loss: 3.3286574640171675e-05, accuracy: 0.25\n",
            "val, Loss: 8.66238463486573e-05, accuracy: 0.25\n",
            "Epoch 16/19\n",
            "====================\n",
            "train, Loss: 4.483412729404493e-05, accuracy: 0.25\n",
            "val, Loss: 0.00015659417735922474, accuracy: 0.25\n",
            "Epoch 17/19\n",
            "====================\n",
            "train, Loss: 3.4346786942328175e-05, accuracy: 0.25\n",
            "val, Loss: 0.0001111820446925721, accuracy: 0.25\n",
            "Epoch 18/19\n",
            "====================\n",
            "train, Loss: 1.5128125552515741e-05, accuracy: 0.25\n",
            "val, Loss: 4.552913830566192e-05, accuracy: 0.25\n",
            "Epoch 19/19\n",
            "====================\n",
            "train, Loss: 3.0422935444882818e-05, accuracy: 0.25\n",
            "val, Loss: 6.666806020251842e-05, accuracy: 0.25\n"
          ]
        }
      ]
    },
    {
      "cell_type": "code",
      "source": [
        "path=\"/content/drive/MyDrive/vision lab/alexnet,vgg16,resnet,inception_v1/vgg_scratch/model.pkl\"\n",
        "torch.save(model.state_dict(),path)"
      ],
      "metadata": {
        "id": "emRsLQbvxrv_"
      },
      "execution_count": null,
      "outputs": []
    }
  ]
}